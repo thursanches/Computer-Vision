{
 "cells": [
  {
   "cell_type": "code",
   "execution_count": 4,
   "id": "6acfee3b-65b5-41be-88df-ba20e37d9e27",
   "metadata": {},
   "outputs": [],
   "source": [
    "import numpy as np\n",
    "import matplotlib.pyplot as plt\n",
    "import cv2\n",
    "%matplotlib inline"
   ]
  },
  {
   "cell_type": "code",
   "execution_count": 11,
   "id": "0ee26a89-caab-41d8-a615-dd68f331fa0d",
   "metadata": {},
   "outputs": [],
   "source": [
    "###Creating Variables\n",
    "\n",
    "\n",
    "#### True while mouse button press down, false button up\n",
    "\n",
    "drawing = False\n",
    "\n",
    "ix = -1\n",
    "iy = -1\n",
    "###Function###\n",
    "#### define ### \n",
    "\n",
    "def draw_rectangle(event,x,y,flags,parameter):\n",
    "\n",
    "    global ix,iy,drawing\n",
    "    \n",
    "    if event == cv2.EVENT_LBUTTONDOWN:\n",
    "        \n",
    "        drawing = True\n",
    "        ix, iy = x,y\n",
    "        \n",
    "    elif event == cv2.EVENT_MOUSEMOVE:\n",
    "        if drawing == True:\n",
    "            cv2.rectangle(image,(ix,iy),(x,y),(0,255,0),-1)\n",
    "    \n",
    "    elif event == cv2.EVENT_LBUTTONDOWN:\n",
    "        drawing = False\n",
    "        cv2.rectangle(image,(ix,iy),(x,y),(0,255,0),-1) \n",
    "\n",
    "#How to show an image with opencv#\n",
    "\n",
    "### script #### first showing the image:\n",
    "\n",
    "image = np.zeros((512,512,3),np.int8)#8 to make it lighter\n",
    "\n",
    "cv2.namedWindow(winname = 'my_rectangle')\n",
    "\n",
    "cv2.setMouseCallback('my_rectangle',draw_rectangle)\n",
    "\n",
    "while True:\n",
    "    \n",
    "    cv2.imshow('my_recatangle',image)\n",
    "   \n",
    "    ##press ESC to shut window down \n",
    "    if cv2.waitKey(1) & 0xFF == 27 :\n",
    "        \n",
    "        break\n",
    "        \n",
    "cv2.destroyAllWindows()"
   ]
  },
  {
   "cell_type": "code",
   "execution_count": null,
   "id": "5c2400ae-e763-4ade-a8cf-9f49074489d3",
   "metadata": {},
   "outputs": [],
   "source": []
  }
 ],
 "metadata": {
  "kernelspec": {
   "display_name": "Python 3",
   "language": "python",
   "name": "python3"
  },
  "language_info": {
   "codemirror_mode": {
    "name": "ipython",
    "version": 3
   },
   "file_extension": ".py",
   "mimetype": "text/x-python",
   "name": "python",
   "nbconvert_exporter": "python",
   "pygments_lexer": "ipython3",
   "version": "3.7.7"
  }
 },
 "nbformat": 4,
 "nbformat_minor": 5
}
