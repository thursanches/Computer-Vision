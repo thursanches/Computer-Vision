{
 "cells": [
  {
   "cell_type": "code",
   "execution_count": 22,
   "id": "772e8d7c-52c4-4c43-a680-c21c914f6cf3",
   "metadata": {},
   "outputs": [],
   "source": [
    "import numpy as np\n",
    "\n",
    "import matplotlib.pyplot as plt\n",
    "\n",
    "import cv2\n",
    "\n",
    "%matplotlib inline"
   ]
  },
  {
   "cell_type": "code",
   "execution_count": 24,
   "id": "f6179576-6286-440e-b72f-e4cd773a872e",
   "metadata": {},
   "outputs": [],
   "source": [
    "no_img = np.zeros(shape=(512,512,3),dtype=np.int16)"
   ]
  },
  {
   "cell_type": "code",
   "execution_count": 25,
   "id": "74a01f36-87e6-4ac8-b330-64de7ae96a06",
   "metadata": {},
   "outputs": [
    {
     "data": {
      "text/plain": [
       "array([[[0, 0, 0],\n",
       "        [0, 0, 0],\n",
       "        [0, 0, 0],\n",
       "        ...,\n",
       "        [0, 0, 0],\n",
       "        [0, 0, 0],\n",
       "        [0, 0, 0]],\n",
       "\n",
       "       [[0, 0, 0],\n",
       "        [0, 0, 0],\n",
       "        [0, 0, 0],\n",
       "        ...,\n",
       "        [0, 0, 0],\n",
       "        [0, 0, 0],\n",
       "        [0, 0, 0]],\n",
       "\n",
       "       [[0, 0, 0],\n",
       "        [0, 0, 0],\n",
       "        [0, 0, 0],\n",
       "        ...,\n",
       "        [0, 0, 0],\n",
       "        [0, 0, 0],\n",
       "        [0, 0, 0]],\n",
       "\n",
       "       ...,\n",
       "\n",
       "       [[0, 0, 0],\n",
       "        [0, 0, 0],\n",
       "        [0, 0, 0],\n",
       "        ...,\n",
       "        [0, 0, 0],\n",
       "        [0, 0, 0],\n",
       "        [0, 0, 0]],\n",
       "\n",
       "       [[0, 0, 0],\n",
       "        [0, 0, 0],\n",
       "        [0, 0, 0],\n",
       "        ...,\n",
       "        [0, 0, 0],\n",
       "        [0, 0, 0],\n",
       "        [0, 0, 0]],\n",
       "\n",
       "       [[0, 0, 0],\n",
       "        [0, 0, 0],\n",
       "        [0, 0, 0],\n",
       "        ...,\n",
       "        [0, 0, 0],\n",
       "        [0, 0, 0],\n",
       "        [0, 0, 0]]], dtype=int16)"
      ]
     },
     "execution_count": 25,
     "metadata": {},
     "output_type": "execute_result"
    }
   ],
   "source": [
    "no_img"
   ]
  },
  {
   "cell_type": "code",
   "execution_count": 21,
   "id": "83d3971f-ed59-4003-bd45-05231e9228d1",
   "metadata": {},
   "outputs": [
    {
     "data": {
      "text/plain": [
       "(512, 512, 3)"
      ]
     },
     "execution_count": 21,
     "metadata": {},
     "output_type": "execute_result"
    }
   ],
   "source": [
    "no_img.shape"
   ]
  },
  {
   "cell_type": "code",
   "execution_count": 22,
   "id": "fe38aa68-5495-4017-b4e6-0f348e79c3e5",
   "metadata": {},
   "outputs": [
    {
     "data": {
      "text/plain": [
       "<matplotlib.image.AxesImage at 0x7efeba2a1b50>"
      ]
     },
     "execution_count": 22,
     "metadata": {},
     "output_type": "execute_result"
    },
    {
     "data": {
      "image/png": "[encoded data removed]",
      "text/plain": [
       "<Figure size 432x288 with 1 Axes>"
      ]
     },
     "metadata": {
      "needs_background": "light"
     },
     "output_type": "display_data"
    }
   ],
   "source": [
    "plt.imshow(no_img)"
   ]
  },
  {
   "cell_type": "code",
   "execution_count": 23,
   "id": "15ec9e87-4df7-4558-9682-4475468e534c",
   "metadata": {},
   "outputs": [],
   "source": [
    "no_img_rec = cv2.rectangle(no_img,pt1=(410,10),\n",
    "            pt2=(510,120),color=(0,255,0),thickness=10)"
   ]
  },
  {
   "cell_type": "code",
   "execution_count": 24,
   "id": "161ef9ab-de90-48a7-9f1a-40e104317968",
   "metadata": {},
   "outputs": [
    {
     "data": {
      "text/plain": [
       "array([[[0, 0, 0],\n",
       "        [0, 0, 0],\n",
       "        [0, 0, 0],\n",
       "        ...,\n",
       "        [0, 0, 0],\n",
       "        [0, 0, 0],\n",
       "        [0, 0, 0]],\n",
       "\n",
       "       [[0, 0, 0],\n",
       "        [0, 0, 0],\n",
       "        [0, 0, 0],\n",
       "        ...,\n",
       "        [0, 0, 0],\n",
       "        [0, 0, 0],\n",
       "        [0, 0, 0]],\n",
       "\n",
       "       [[0, 0, 0],\n",
       "        [0, 0, 0],\n",
       "        [0, 0, 0],\n",
       "        ...,\n",
       "        [0, 0, 0],\n",
       "        [0, 0, 0],\n",
       "        [0, 0, 0]],\n",
       "\n",
       "       ...,\n",
       "\n",
       "       [[0, 0, 0],\n",
       "        [0, 0, 0],\n",
       "        [0, 0, 0],\n",
       "        ...,\n",
       "        [0, 0, 0],\n",
       "        [0, 0, 0],\n",
       "        [0, 0, 0]],\n",
       "\n",
       "       [[0, 0, 0],\n",
       "        [0, 0, 0],\n",
       "        [0, 0, 0],\n",
       "        ...,\n",
       "        [0, 0, 0],\n",
       "        [0, 0, 0],\n",
       "        [0, 0, 0]],\n",
       "\n",
       "       [[0, 0, 0],\n",
       "        [0, 0, 0],\n",
       "        [0, 0, 0],\n",
       "        ...,\n",
       "        [0, 0, 0],\n",
       "        [0, 0, 0],\n",
       "        [0, 0, 0]]], dtype=int16)"
      ]
     },
     "execution_count": 24,
     "metadata": {},
     "output_type": "execute_result"
    }
   ],
   "source": [
    "no_img_rec"
   ]
  },
  {
   "cell_type": "code",
   "execution_count": 25,
   "id": "d21be837-e437-431e-b51f-d48647a63479",
   "metadata": {},
   "outputs": [
    {
     "data": {
      "text/plain": [
       "<matplotlib.image.AxesImage at 0x7efeba40fa50>"
      ]
     },
     "execution_count": 25,
     "metadata": {},
     "output_type": "execute_result"
    },
    {
     "data": {
      "image/png": "[encoded data removed]",
      "text/plain": [
       "<Figure size 432x288 with 1 Axes>"
      ]
     },
     "metadata": {
      "needs_background": "light"
     },
     "output_type": "display_data"
    }
   ],
   "source": [
    "plt.imshow(no_img_rec)"
   ]
  },
  {
   "cell_type": "code",
   "execution_count": 27,
   "id": "2d2b5270-d27e-46bc-803a-fd6e814ff886",
   "metadata": {},
   "outputs": [],
   "source": [
    "no_img_cir = cv2.circle(img=no_img_rec,center=(206,206),\n",
    "            radius=50,color=(255,0,0),thickness=10)"
   ]
  },
  {
   "cell_type": "code",
   "execution_count": 28,
   "id": "644bee3e-3916-415d-8876-e5b1b17e0837",
   "metadata": {},
   "outputs": [
    {
     "data": {
      "text/plain": [
       "<matplotlib.image.AxesImage at 0x7efebac6d150>"
      ]
     },
     "execution_count": 28,
     "metadata": {},
     "output_type": "execute_result"
    },
    {
     "data": {
      "image/png": "[encoded data removed]",
      "text/plain": [
       "<Figure size 432x288 with 1 Axes>"
      ]
     },
     "metadata": {
      "needs_background": "light"
     },
     "output_type": "display_data"
    }
   ],
   "source": [
    "plt.imshow(no_img_cir)"
   ]
  },
  {
   "cell_type": "code",
   "execution_count": 30,
   "id": "6b351a12-96d1-46a0-8bd3-2faee02575de",
   "metadata": {},
   "outputs": [],
   "source": [
    "no_img_cir = cv2.circle(img=no_img_rec,center=(400,400),\n",
    "            radius=50,color=(255,0,0),thickness=-1)"
   ]
  },
  {
   "cell_type": "code",
   "execution_count": 31,
   "id": "49263e70-54ed-4842-b287-6fe7187885c6",
   "metadata": {},
   "outputs": [
    {
     "data": {
      "text/plain": [
       "<matplotlib.image.AxesImage at 0x7efeba346e10>"
      ]
     },
     "execution_count": 31,
     "metadata": {},
     "output_type": "execute_result"
    },
    {
     "data": {
      "image/png": "[encoded data removed]",
      "text/plain": [
       "<Figure size 432x288 with 1 Axes>"
      ]
     },
     "metadata": {
      "needs_background": "light"
     },
     "output_type": "display_data"
    }
   ],
   "source": [
    "plt.imshow(no_img_cir)"
   ]
  },
  {
   "cell_type": "code",
   "execution_count": 33,
   "id": "c631147b-9058-441d-9478-648a38e2ad04",
   "metadata": {},
   "outputs": [],
   "source": [
    "no_img_line = cv2.line(no_img_rec,pt1=(0,0),pt2=(512,512),\n",
    "         color=(112,255,340),thickness=8)"
   ]
  },
  {
   "cell_type": "code",
   "execution_count": 36,
   "id": "b7dff838-0ff1-4b79-9286-08a147774fad",
   "metadata": {},
   "outputs": [
    {
     "data": {
      "text/plain": [
       "array([[[112, 255, 340],\n",
       "        [112, 255, 340],\n",
       "        [112, 255, 340],\n",
       "        ...,\n",
       "        [  0,   0,   0],\n",
       "        [  0,   0,   0],\n",
       "        [  0,   0,   0]],\n",
       "\n",
       "       [[112, 255, 340],\n",
       "        [112, 255, 340],\n",
       "        [112, 255, 340],\n",
       "        ...,\n",
       "        [  0,   0,   0],\n",
       "        [  0,   0,   0],\n",
       "        [  0,   0,   0]],\n",
       "\n",
       "       [[112, 255, 340],\n",
       "        [112, 255, 340],\n",
       "        [112, 255, 340],\n",
       "        ...,\n",
       "        [  0,   0,   0],\n",
       "        [  0,   0,   0],\n",
       "        [  0,   0,   0]],\n",
       "\n",
       "       ...,\n",
       "\n",
       "       [[  0,   0,   0],\n",
       "        [  0,   0,   0],\n",
       "        [  0,   0,   0],\n",
       "        ...,\n",
       "        [112, 255, 340],\n",
       "        [112, 255, 340],\n",
       "        [112, 255, 340]],\n",
       "\n",
       "       [[  0,   0,   0],\n",
       "        [  0,   0,   0],\n",
       "        [  0,   0,   0],\n",
       "        ...,\n",
       "        [112, 255, 340],\n",
       "        [112, 255, 340],\n",
       "        [112, 255, 340]],\n",
       "\n",
       "       [[  0,   0,   0],\n",
       "        [  0,   0,   0],\n",
       "        [  0,   0,   0],\n",
       "        ...,\n",
       "        [112, 255, 340],\n",
       "        [112, 255, 340],\n",
       "        [112, 255, 340]]], dtype=int16)"
      ]
     },
     "execution_count": 36,
     "metadata": {},
     "output_type": "execute_result"
    }
   ],
   "source": [
    "no_img_line"
   ]
  },
  {
   "cell_type": "code",
   "execution_count": 38,
   "id": "27e35246-2ce9-4207-8e52-c300c56bb6c4",
   "metadata": {},
   "outputs": [
    {
     "name": "stderr",
     "output_type": "stream",
     "text": [
      "Clipping input data to the valid range for imshow with RGB data ([0..1] for floats or [0..255] for integers).\n"
     ]
    },
    {
     "data": {
      "text/plain": [
       "<matplotlib.image.AxesImage at 0x7efeb9cf0810>"
      ]
     },
     "execution_count": 38,
     "metadata": {},
     "output_type": "execute_result"
    },
    {
     "data": {
      "image/png": "[encoded data removed]",
      "text/plain": [
       "<Figure size 432x288 with 1 Axes>"
      ]
     },
     "metadata": {
      "needs_background": "light"
     },
     "output_type": "display_data"
    }
   ],
   "source": [
    "plt.imshow(no_img_line)"
   ]
  },
  {
   "cell_type": "code",
   "execution_count": 37,
   "id": "650664b2-e535-4e03-bf4b-e579749157f3",
   "metadata": {},
   "outputs": [],
   "source": [
    "#WRITE TEXT ON IT"
   ]
  },
  {
   "cell_type": "code",
   "execution_count": 47,
   "id": "a762ac4f-89d0-4d22-8f9b-aa3cdb9696ef",
   "metadata": {},
   "outputs": [
    {
     "name": "stderr",
     "output_type": "stream",
     "text": [
      "Clipping input data to the valid range for imshow with RGB data ([0..1] for floats or [0..255] for integers).\n"
     ]
    },
    {
     "data": {
      "text/plain": [
       "<matplotlib.image.AxesImage at 0x7efebadcdc50>"
      ]
     },
     "execution_count": 47,
     "metadata": {},
     "output_type": "execute_result"
    },
    {
     "data": {
      "image/png": "[encoded data removed]",
      "text/plain": [
       "<Figure size 432x288 with 1 Axes>"
      ]
     },
     "metadata": {
      "needs_background": "light"
     },
     "output_type": "display_data"
    }
   ],
   "source": [
    "wrt = cv2.FONT_HERSHEY_SCRIPT_SIMPLEX\n",
    "cv2.putText(no_img_line,text='wherever',org=(10,300),fontFace=wrt,\n",
    "           fontScale=4,color=(255,255,255),thickness=2,\n",
    "           lineType=cv2.LINE_AA)\n",
    "plt.imshow(no_img_line)"
   ]
  },
  {
   "cell_type": "code",
   "execution_count": 2,
   "id": "64ffc982-6764-4296-a075-79e30c39a122",
   "metadata": {},
   "outputs": [],
   "source": [
    "blksqr = np.zeros(shape=(512,512,3),dtype=np.int32)"
   ]
  },
  {
   "cell_type": "code",
   "execution_count": 3,
   "id": "456456d3-d0c5-47e7-b5ab-f93353e3b8aa",
   "metadata": {},
   "outputs": [
    {
     "data": {
      "text/plain": [
       "<matplotlib.image.AxesImage at 0x7f8efc716750>"
      ]
     },
     "execution_count": 3,
     "metadata": {},
     "output_type": "execute_result"
    },
    {
     "data": {
      "image/png": "[encoded data removed]",
      "text/plain": [
       "<Figure size 432x288 with 1 Axes>"
      ]
     },
     "metadata": {
      "needs_background": "light"
     },
     "output_type": "display_data"
    }
   ],
   "source": [
    "plt.imshow(blksqr)"
   ]
  },
  {
   "cell_type": "code",
   "execution_count": 4,
   "id": "74d9fb87-f157-4902-b420-b1e7a932bbbf",
   "metadata": {},
   "outputs": [],
   "source": [
    "vert = np.array([[100,200],[200,100],[250,300],[150,400]],\n",
    "                dtype=np.int32)"
   ]
  },
  {
   "cell_type": "code",
   "execution_count": 5,
   "id": "df654ca7-bfe6-4aae-a85d-fe35cd41bf06",
   "metadata": {},
   "outputs": [
    {
     "data": {
      "text/plain": [
       "array([[100, 200],\n",
       "       [200, 100],\n",
       "       [250, 300],\n",
       "       [150, 400]], dtype=int32)"
      ]
     },
     "execution_count": 5,
     "metadata": {},
     "output_type": "execute_result"
    }
   ],
   "source": [
    "vert"
   ]
  },
  {
   "cell_type": "code",
   "execution_count": 6,
   "id": "40aa31ce-996e-4d36-80b2-b9bffa7cc74a",
   "metadata": {},
   "outputs": [
    {
     "data": {
      "text/plain": [
       "(4, 2)"
      ]
     },
     "execution_count": 6,
     "metadata": {},
     "output_type": "execute_result"
    }
   ],
   "source": [
    "vert.shape"
   ]
  },
  {
   "cell_type": "code",
   "execution_count": 18,
   "id": "3225ba59-47f2-4f1c-93f3-061caf35588d",
   "metadata": {},
   "outputs": [],
   "source": [
    "vert3D = vert.reshape(-1,1,2)"
   ]
  },
  {
   "cell_type": "code",
   "execution_count": 19,
   "id": "38efd39d-2e63-4f91-a7d4-58e2ea87c0d0",
   "metadata": {},
   "outputs": [
    {
     "data": {
      "text/plain": [
       "array([[[100, 200]],\n",
       "\n",
       "       [[200, 100]],\n",
       "\n",
       "       [[250, 300]],\n",
       "\n",
       "       [[150, 400]]], dtype=int32)"
      ]
     },
     "execution_count": 19,
     "metadata": {},
     "output_type": "execute_result"
    }
   ],
   "source": [
    "vert3D"
   ]
  },
  {
   "cell_type": "code",
   "execution_count": 20,
   "id": "af0f713f-d15c-461d-b180-3102b1a410ee",
   "metadata": {},
   "outputs": [
    {
     "data": {
      "text/plain": [
       "(4, 1, 2)"
      ]
     },
     "execution_count": 20,
     "metadata": {},
     "output_type": "execute_result"
    }
   ],
   "source": [
    "vert3D.shape"
   ]
  },
  {
   "cell_type": "code",
   "execution_count": 21,
   "id": "d26bf3f8-5475-4659-a2f1-a42b244b7769",
   "metadata": {},
   "outputs": [
    {
     "data": {
      "text/plain": [
       "<matplotlib.image.AxesImage at 0x7f8efbdef3d0>"
      ]
     },
     "execution_count": 21,
     "metadata": {},
     "output_type": "execute_result"
    },
    {
     "data": {
      "image/png": "[encoded data removed]",
      "text/plain": [
       "<Figure size 432x288 with 1 Axes>"
      ]
     },
     "metadata": {
      "needs_background": "light"
     },
     "output_type": "display_data"
    }
   ],
   "source": [
    "cv2.polylines(blksqr,[vert3D],isClosed=True,\n",
    "              color=(255,0,0),thickness=3)\n",
    "plt.imshow(blksqr)"
   ]
  },
  {
   "cell_type": "code",
   "execution_count": null,
   "id": "95ef4729-a1c7-48b3-b130-6cc4ba86ad67",
   "metadata": {},
   "outputs": [],
   "source": []
  }
 ],
 "metadata": {
  "kernelspec": {
   "display_name": "Python 3",
   "language": "python",
   "name": "python3"
  },
  "language_info": {
   "codemirror_mode": {
    "name": "ipython",
    "version": 3
   },
   "file_extension": ".py",
   "mimetype": "text/x-python",
   "name": "python",
   "nbconvert_exporter": "python",
   "pygments_lexer": "ipython3",
   "version": "3.7.7"
  }
 },
 "nbformat": 4,
 "nbformat_minor": 5
}
